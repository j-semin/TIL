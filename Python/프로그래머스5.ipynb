{
 "cells": [
  {
   "cell_type": "markdown",
   "id": "f5007b5f",
   "metadata": {},
   "source": [
    "## JadenCase 문자열 만들기"
   ]
  },
  {
   "cell_type": "code",
   "execution_count": null,
   "id": "e6162248",
   "metadata": {},
   "outputs": [
    {
     "name": "stdout",
     "output_type": "stream",
     "text": [
      "['3people', 'unFollowed', 'me']\n",
      "3people Unfollowed Me\n",
      "['', '', '', '3people', '', '', 'unFollowed', 'me']\n",
      "   3people   Unfollowed Me\n",
      "['for', 'the', 'last', 'week']\n",
      "For The Last Week\n"
     ]
    }
   ],
   "source": [
    "def solution(s):\n",
    "    answer = [] \n",
    "    s = s.split(\" \") # 공백1칸을 기준으로 문자열을 분리\n",
    "    print(s) # 문자열이 어떻게 분리되는지 확인\n",
    "    for word in s:\n",
    "        if word == \"\": # 빈 문자열이면 \n",
    "            answer.append(\"\") # 빈 문자열 그대로 리스트에 추가 \n",
    "        else: \n",
    "            # answer.append(word[0].upper() + word[1:].lower()) # 맨앞글자만 대문자, 나머지는 소문자로\n",
    "            answer.append(word.capitalize()) # 맨앞글자만 대문자로 변환(윗줄보다 간단)\n",
    "    return \" \".join(answer) # 공백1칸으로 문자열 합치기 \n",
    "\n",
    "print(solution(\"3people unFollowed me\")) # \"3people Unfollowed Me\"\n",
    "print(solution(\"   3people   unFollowed me\")) # \"3people Unfollowed Me\"\n",
    "print(solution(\"for the last week\")) # \"For The Last Week\""
   ]
  },
  {
   "cell_type": "markdown",
   "id": "3c14e045",
   "metadata": {},
   "source": [
    "## H-Index"
   ]
  },
  {
   "cell_type": "code",
   "execution_count": null,
   "id": "58278db3",
   "metadata": {},
   "outputs": [],
   "source": []
  }
 ],
 "metadata": {
  "kernelspec": {
   "display_name": "base",
   "language": "python",
   "name": "python3"
  },
  "language_info": {
   "codemirror_mode": {
    "name": "ipython",
    "version": 3
   },
   "file_extension": ".py",
   "mimetype": "text/x-python",
   "name": "python",
   "nbconvert_exporter": "python",
   "pygments_lexer": "ipython3",
   "version": "3.10.9"
  }
 },
 "nbformat": 4,
 "nbformat_minor": 5
}
