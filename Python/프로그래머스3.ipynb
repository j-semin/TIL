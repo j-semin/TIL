{
 "cells": [
  {
   "cell_type": "markdown",
   "id": "5384b0e1",
   "metadata": {},
   "source": [
    "## 1. 연속된 수의 합\n",
    "연속된 세 개의 정수를 더해 12가 되는 경우는 3, 4, 5입니다. 두 정수 num과 total이 주어집니다. 연속된 수 num개를 더한 값이 total이 될 때, 정수 배열을 오름차순으로 담아 return하도록 solution함수를 완성해보세요.\n"
   ]
  },
  {
   "cell_type": "code",
   "execution_count": null,
   "id": "5632c400",
   "metadata": {},
   "outputs": [],
   "source": []
  },
  {
   "cell_type": "markdown",
   "id": "449a1ab3",
   "metadata": {},
   "source": [
    "## 2. 콜라 문제\n",
    "이 문제는 빈 병 a개를 가져다주면 콜라 b병을 주는 마트가 있을 때, 빈 병 n개를 가져다주면 몇 병을 받을 수 있는지 계산하는 문제입니다. 기존 콜라 문제와 마찬가지로, 보유 중인 빈 병이 a개 미만이면, 추가적으로 빈 병을 받을 순 없습니다. 상빈이는 열심히 고심했지만, 일반화된 콜라 문제의 답을 찾을 수 없었습니다. 상빈이를 도와, 일반화된 콜라 문제를 해결하는 프로그램을 만들어 주세요.\n",
    "\n",
    "콜라를 받기 위해 마트에 주어야 하는 병 수 a, 빈 병 a개를 가져다 주면 마트가 주는 콜라 병 수 b, 상빈이가 가지고 있는 빈 병의 개수 n이 매개변수로 주어집니다. 상빈이가 받을 수 있는 콜라의 병 수를 return 하도록 solution 함수를 작성해주세요."
   ]
  },
  {
   "cell_type": "code",
   "execution_count": 1,
   "id": "60f5fd53",
   "metadata": {},
   "outputs": [
    {
     "name": "stdout",
     "output_type": "stream",
     "text": [
      "19\n",
      "9\n"
     ]
    }
   ],
   "source": [
    "def solution(a, b, n):\n",
    "    answer = 0 # 받을 수 있는 콜라병 수 \n",
    "    while n >= a: # n >= a 가 성립하는 동안 반복 \n",
    "        answer += (n // a) * b\n",
    "        n = (n // a) * b + (n % a)\n",
    "    return answer\n",
    "\n",
    "print(solution(2, 1, 20)) # 19\n",
    "print(solution(3, 1, 20)) # 9"
   ]
  },
  {
   "cell_type": "markdown",
   "id": "7a630c31",
   "metadata": {},
   "source": [
    "## 3. 2016년\n",
    "2016년 1월 1일은 금요일입니다. 2016년 a월 b일은 무슨 요일일까요? 두 수 a ,b를 입력받아 2016년 a월 b일이 무슨 요일인지 리턴하는 함수, solution을 완성하세요. 요일의 이름은 일요일부터 토요일까지 각각 SUN,MON,TUE,WED,THU,FRI,SAT 입니다. 예를 들어 a=5, b=24라면 5월 24일은 화요일이므로 문자열 \"TUE\"를 반환하세요."
   ]
  },
  {
   "cell_type": "code",
   "execution_count": 2,
   "id": "03bd0c08",
   "metadata": {},
   "outputs": [
    {
     "name": "stdout",
     "output_type": "stream",
     "text": [
      "TUE\n"
     ]
    }
   ],
   "source": [
    "def solution(a, b): # a월 b일 \n",
    "    month = [31, 29, 31, 30, 31, 30, 31, 31, 30, 31, 30, 31] # 각 월의 총 일수 \n",
    "    week = [\"FRI\", \"SAT\", \"SUN\", \"MON\", \"TUE\", \"WED\", \"THU\"] # 2016/1/1 : FRI\n",
    "    days = sum(month[:a-1]) + b - 1 # 1월1일부터 a월b일까지 총 몇일인지 \n",
    "    answer = week[days % len(week)]\n",
    "    return answer\n",
    "\n",
    "print(solution(5, 24)) # \"TUE\""
   ]
  },
  {
   "cell_type": "markdown",
   "id": "6d7430be",
   "metadata": {},
   "source": [
    "## 4. 공원 산책"
   ]
  },
  {
   "cell_type": "code",
   "execution_count": null,
   "id": "a40efb7f",
   "metadata": {},
   "outputs": [],
   "source": []
  }
 ],
 "metadata": {
  "kernelspec": {
   "display_name": "base",
   "language": "python",
   "name": "python3"
  },
  "language_info": {
   "codemirror_mode": {
    "name": "ipython",
    "version": 3
   },
   "file_extension": ".py",
   "mimetype": "text/x-python",
   "name": "python",
   "nbconvert_exporter": "python",
   "pygments_lexer": "ipython3",
   "version": "3.10.9"
  }
 },
 "nbformat": 4,
 "nbformat_minor": 5
}
