{
 "cells": [
  {
   "cell_type": "markdown",
   "id": "5384b0e1",
   "metadata": {},
   "source": [
    "## 1. 연속된 수의 합\n",
    "연속된 세 개의 정수를 더해 12가 되는 경우는 3, 4, 5입니다. 두 정수 num과 total이 주어집니다. 연속된 수 num개를 더한 값이 total이 될 때, 정수 배열을 오름차순으로 담아 return하도록 solution함수를 완성해보세요.\n"
   ]
  },
  {
   "cell_type": "markdown",
   "id": "b6e4852f",
   "metadata": {},
   "source": [
    "등차수열(공차 1) 합 공식:\n",
    "a + (a+1) + … + (a+num-1) = num*(2a + num - 1)/2 = total  \n",
    "a로 풀면 a = (2*total/num - (num-1)) / 2"
   ]
  },
  {
   "cell_type": "code",
   "execution_count": 4,
   "id": "5632c400",
   "metadata": {},
   "outputs": [
    {
     "name": "stdout",
     "output_type": "stream",
     "text": [
      "[3, 4, 5]\n",
      "[1, 2, 3, 4, 5]\n",
      "[2, 3, 4, 5]\n",
      "[-1, 0, 1, 2, 3]\n"
     ]
    }
   ],
   "source": [
    "def solution(num, total):\n",
    "    a = (2*total/num - (num-1)) / 2 # a는 첫째항(result에서 0번째 인덱스의 값)\n",
    "    return [int(a + i) for i in range(num)]\n",
    "\n",
    "print(solution(3, 12))\n",
    "print(solution(5, 15))\n",
    "print(solution(4, 14))\n",
    "print(solution(5, 5))"
   ]
  },
  {
   "cell_type": "markdown",
   "id": "fbfb2236",
   "metadata": {},
   "source": [
    "#### 다른 풀이"
   ]
  },
  {
   "cell_type": "code",
   "execution_count": 5,
   "id": "bb9490c5",
   "metadata": {},
   "outputs": [
    {
     "name": "stdout",
     "output_type": "stream",
     "text": [
      "[3, 4, 5]\n",
      "[1, 2, 3, 4, 5]\n",
      "[2, 3, 4, 5]\n",
      "[-1, 0, 1, 2, 3]\n"
     ]
    }
   ],
   "source": [
    "def solution(num, total):\n",
    "    result = list(range(num)) # [0, 1, 2, ..., num-1]\n",
    "    diff = total - sum(result) # 'total'과 'result의 원소들의 총합'과의 차이\n",
    "    d = diff // num # result의 각 원소에 더할 값\n",
    "    return [x + d for x in result]\n",
    "\n",
    "print(solution(3, 12))\n",
    "print(solution(5, 15))\n",
    "print(solution(4, 14))\n",
    "print(solution(5, 5))"
   ]
  },
  {
   "cell_type": "markdown",
   "id": "449a1ab3",
   "metadata": {},
   "source": [
    "## 2. 콜라 문제\n",
    "이 문제는 빈 병 a개를 가져다주면 콜라 b병을 주는 마트가 있을 때, 빈 병 n개를 가져다주면 몇 병을 받을 수 있는지 계산하는 문제입니다. 기존 콜라 문제와 마찬가지로, 보유 중인 빈 병이 a개 미만이면, 추가적으로 빈 병을 받을 순 없습니다. 상빈이는 열심히 고심했지만, 일반화된 콜라 문제의 답을 찾을 수 없었습니다. 상빈이를 도와, 일반화된 콜라 문제를 해결하는 프로그램을 만들어 주세요.\n",
    "\n",
    "콜라를 받기 위해 마트에 주어야 하는 병 수 a, 빈 병 a개를 가져다 주면 마트가 주는 콜라 병 수 b, 상빈이가 가지고 있는 빈 병의 개수 n이 매개변수로 주어집니다. 상빈이가 받을 수 있는 콜라의 병 수를 return 하도록 solution 함수를 작성해주세요."
   ]
  },
  {
   "cell_type": "code",
   "execution_count": 6,
   "id": "60f5fd53",
   "metadata": {},
   "outputs": [
    {
     "name": "stdout",
     "output_type": "stream",
     "text": [
      "19\n",
      "9\n"
     ]
    }
   ],
   "source": [
    "def solution(a, b, n):\n",
    "    answer = 0 # 받을 수 있는 콜라병 수 \n",
    "    while n >= a: # n >= a 가 성립하는 동안 반복 \n",
    "        answer += (n // a) * b\n",
    "        n = (n // a) * b + (n % a)\n",
    "    return answer\n",
    "\n",
    "print(solution(2, 1, 20)) # 19\n",
    "print(solution(3, 1, 20)) # 9"
   ]
  },
  {
   "cell_type": "markdown",
   "id": "7a630c31",
   "metadata": {},
   "source": [
    "## 3. 2016년\n",
    "2016년 1월 1일은 금요일입니다. 2016년 a월 b일은 무슨 요일일까요? 두 수 a ,b를 입력받아 2016년 a월 b일이 무슨 요일인지 리턴하는 함수, solution을 완성하세요. 요일의 이름은 일요일부터 토요일까지 각각 SUN,MON,TUE,WED,THU,FRI,SAT 입니다. 예를 들어 a=5, b=24라면 5월 24일은 화요일이므로 문자열 \"TUE\"를 반환하세요."
   ]
  },
  {
   "cell_type": "code",
   "execution_count": 2,
   "id": "03bd0c08",
   "metadata": {},
   "outputs": [
    {
     "name": "stdout",
     "output_type": "stream",
     "text": [
      "TUE\n"
     ]
    }
   ],
   "source": [
    "def solution(a, b): # a월 b일 \n",
    "    month = [31, 29, 31, 30, 31, 30, 31, 31, 30, 31, 30, 31] # 각 월의 총 일수 \n",
    "    week = [\"FRI\", \"SAT\", \"SUN\", \"MON\", \"TUE\", \"WED\", \"THU\"] # 2016/1/1 : FRI\n",
    "    days = sum(month[:a-1]) + b - 1 # 1월1일부터 a월b일까지 총 몇일인지 \n",
    "    answer = week[days % len(week)]\n",
    "    return answer\n",
    "\n",
    "print(solution(5, 24)) # \"TUE\""
   ]
  },
  {
   "cell_type": "markdown",
   "id": "6d7430be",
   "metadata": {},
   "source": [
    "## 4. 공원 산책"
   ]
  },
  {
   "cell_type": "code",
   "execution_count": 1,
   "id": "a40efb7f",
   "metadata": {},
   "outputs": [
    {
     "name": "stdout",
     "output_type": "stream",
     "text": [
      "[2, 1]\n",
      "[0, 1]\n",
      "[0, 0]\n"
     ]
    }
   ],
   "source": [
    "def solution(park, routes):\n",
    "    H, W = len(park), len(park[0]) # 세로길이 H(행 개수), 가로길이 W(열 개수)\n",
    "    grid = [list(row) for row in park] # 2차원 리스트 \n",
    "\n",
    "    # 시작 위치 찾기\n",
    "    for i in range(H):\n",
    "        for j in range(W):\n",
    "            if grid[i][j] == 'S':\n",
    "                y, x = i, j\n",
    "                break\n",
    "        else: # 행 j에서 S를 못 찾았다면 \n",
    "            continue # 바로 다음 행으로 \n",
    "        break\n",
    "\n",
    "    for route in routes:\n",
    "        d, n = route.split()\n",
    "        n = int(n)\n",
    "        ny, nx = y, x # 현재 좌표를 임시로 저장\n",
    "\n",
    "        if d == 'E': # 동쪽\n",
    "            for k in range(1, n + 1):\n",
    "                cx = nx + k # 현재 열 nx에서 동쪽으로 k칸 \n",
    "                if cx >= W or grid[ny][cx] == 'X':\n",
    "                    break # 실패 → else 실행 안 됨\n",
    "            else:\n",
    "                x += n # break 없이 끝 → 이동 확정\n",
    "\n",
    "        elif d == 'W': # 서쪽 \n",
    "            for k in range(1, n + 1):\n",
    "                cx = nx - k # 현재 열 nx에서 서쪽으로 k칸 \n",
    "                if cx < 0 or grid[ny][cx] == 'X':\n",
    "                    break\n",
    "            else:\n",
    "                x -= n\n",
    "\n",
    "        elif d == 'S': # 남쪽 \n",
    "            for k in range(1, n + 1):\n",
    "                cy = ny + k # 현재 행 ny에서 남쪽으로 k칸 \n",
    "                if cy >= H or grid[cy][nx] == 'X':\n",
    "                    break\n",
    "            else:\n",
    "                y += n\n",
    "\n",
    "        elif d == 'N': # 북쪽 \n",
    "            for k in range(1, n + 1):\n",
    "                cy = ny - k # 현재 행 ny에서 북쪽으로 k칸  \n",
    "                if cy < 0 or grid[cy][nx] == 'X':\n",
    "                    break\n",
    "            else:\n",
    "                y -= n\n",
    "\n",
    "    return [y, x]\n",
    "\n",
    "print(solution([\"SOO\",\"OOO\",\"OOO\"], [\"E 2\",\"S 2\",\"W 1\"]))\n",
    "print(solution([\"SOO\",\"OXX\",\"OOO\"], [\"E 2\",\"S 2\",\"W 1\"]))\n",
    "print(solution([\"OSO\",\"OOO\",\"OXO\",\"OOO\"], [\"E 2\",\"S 3\",\"W 1\"]))"
   ]
  }
 ],
 "metadata": {
  "kernelspec": {
   "display_name": "base",
   "language": "python",
   "name": "python3"
  },
  "language_info": {
   "codemirror_mode": {
    "name": "ipython",
    "version": 3
   },
   "file_extension": ".py",
   "mimetype": "text/x-python",
   "name": "python",
   "nbconvert_exporter": "python",
   "pygments_lexer": "ipython3",
   "version": "3.10.9"
  }
 },
 "nbformat": 4,
 "nbformat_minor": 5
}
