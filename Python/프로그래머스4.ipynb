{
 "cells": [
  {
   "cell_type": "markdown",
   "id": "93ec3287",
   "metadata": {},
   "source": [
    "## 숫자의 표현"
   ]
  },
  {
   "cell_type": "code",
   "execution_count": 1,
   "id": "815cfcdc",
   "metadata": {},
   "outputs": [
    {
     "name": "stdout",
     "output_type": "stream",
     "text": [
      "4\n"
     ]
    }
   ],
   "source": [
    "def solution(n): \n",
    "    answer = 0 # 연속된 자연수들로 n을 표현하는 방법의 수\n",
    "    for i in range(1, n+1): # 1부터 n까지 순회 \n",
    "        s = 0 # 자연수들의 합 \n",
    "        while s < n:\n",
    "            s += i # 자연수들의 합 누적 \n",
    "            i += 1 # i는 연속한 자연수 \n",
    "        if s == n:\n",
    "            answer += 1\n",
    "    return answer\n",
    "\n",
    "print(solution(15))"
   ]
  },
  {
   "cell_type": "markdown",
   "id": "0d1f1fc8",
   "metadata": {},
   "source": [
    "## 피보나치 수"
   ]
  },
  {
   "cell_type": "code",
   "execution_count": 1,
   "id": "07496aef",
   "metadata": {},
   "outputs": [
    {
     "name": "stdout",
     "output_type": "stream",
     "text": [
      "2\n",
      "5\n"
     ]
    }
   ],
   "source": [
    "def solution(n):\n",
    "    a, b = 0, 1\n",
    "    for i in range(n):\n",
    "        a, b = b, a+b\n",
    "    return a % 1234567\n",
    "\n",
    "print(solution(3))\n",
    "print(solution(5))"
   ]
  },
  {
   "cell_type": "markdown",
   "id": "22d4a93e",
   "metadata": {},
   "source": [
    "## 옹알이(1)"
   ]
  },
  {
   "cell_type": "code",
   "execution_count": 2,
   "id": "07fa291c",
   "metadata": {},
   "outputs": [
    {
     "name": "stdout",
     "output_type": "stream",
     "text": [
      "1\n",
      "3\n"
     ]
    }
   ],
   "source": [
    "def solution(babbling):\n",
    "    return [len(b.replace(\"aya\",\" \").replace(\"ye\",\" \").replace(\"woo\",\" \").replace(\"ma\",\" \").strip()) for b in babbling].count(0)\n",
    "# 발음 가능한 4가지 단어 b를 각각 공백으로 치환 -> strip으로 공백 제거 -> 길이가 0인 것들의 개수만 .count(0)로 계산 \n",
    "\n",
    "print(solution([\"aya\", \"yee\", \"u\", \"maa\", \"wyeoo\"])) # 1\n",
    "print(solution([\"ayaye\", \"uuuma\", \"ye\", \"yemawoo\", \"ayaa\"])) # 3"
   ]
  },
  {
   "cell_type": "markdown",
   "id": "7277cda5",
   "metadata": {},
   "source": [
    "## 달리기 경주"
   ]
  },
  {
   "cell_type": "code",
   "execution_count": 2,
   "id": "480e3ba1",
   "metadata": {},
   "outputs": [
    {
     "name": "stdout",
     "output_type": "stream",
     "text": [
      "['mumu', 'kai', 'mine', 'soe', 'poe']\n"
     ]
    }
   ],
   "source": [
    "def solution(players, callings):\n",
    "    for name in callings:\n",
    "        idx = players.index(name)\n",
    "        players[idx], players[idx-1] = players[idx-1], players[idx] \n",
    "    return players\n",
    "\n",
    "print(solution([\"mumu\", \"soe\", \"poe\", \"kai\", \"mine\"], [\"kai\", \"kai\", \"mine\", \"mine\"])) # [\"mumu\", \"kai\", \"mine\", \"soe\", \"poe\"]"
   ]
  },
  {
   "cell_type": "markdown",
   "id": "5216766e",
   "metadata": {},
   "source": [
    "6개의 테스트케이스에서 시간초과 오류 발생..  \n",
    "index 때문에 시간이 오래 걸림."
   ]
  },
  {
   "cell_type": "code",
   "execution_count": 1,
   "id": "81ada295",
   "metadata": {},
   "outputs": [
    {
     "name": "stdout",
     "output_type": "stream",
     "text": [
      "['mumu', 'kai', 'mine', 'soe', 'poe']\n"
     ]
    }
   ],
   "source": [
    "def solution(players, callings):\n",
    "    rank = {name: i for i, name in enumerate(players)} # 이름: 현재 등수(인덱스)\n",
    "    for name in callings:\n",
    "        i = rank[name] # 현재 등수 \n",
    "        prev = players[i-1] # 바로 앞 사람 인덱스 \n",
    "        players[i-1], players[i] = players[i], players[i-1] # swap\n",
    "        rank[name], rank[prev] = i-1, i # rank 업데이트 \n",
    "    return players\n",
    "\n",
    "print(solution([\"mumu\", \"soe\", \"poe\", \"kai\", \"mine\"], [\"kai\", \"kai\", \"mine\", \"mine\"])) # [\"mumu\", \"kai\", \"mine\", \"soe\", \"poe\"]"
   ]
  },
  {
   "cell_type": "markdown",
   "id": "62c51667",
   "metadata": {},
   "source": [
    "딕셔너리를 사용해서 시간 초과 오류를 해결함 "
   ]
  }
 ],
 "metadata": {
  "kernelspec": {
   "display_name": "base",
   "language": "python",
   "name": "python3"
  },
  "language_info": {
   "codemirror_mode": {
    "name": "ipython",
    "version": 3
   },
   "file_extension": ".py",
   "mimetype": "text/x-python",
   "name": "python",
   "nbconvert_exporter": "python",
   "pygments_lexer": "ipython3",
   "version": "3.10.9"
  }
 },
 "nbformat": 4,
 "nbformat_minor": 5
}
